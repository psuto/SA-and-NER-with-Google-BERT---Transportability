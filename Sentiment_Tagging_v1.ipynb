{
 "cells": [
  {
   "cell_type": "code",
   "execution_count": 1,
   "metadata": {},
   "outputs": [],
   "source": [
    "import requests\n",
    "import time\n",
    "\n",
    "import xml.etree.ElementTree as ET\n",
    "import pandas as pd\n",
    "import numpy as np\n",
    "import math\n",
    "import matplotlib.pyplot as plt\n",
    "import re\n",
    "import glob\n",
    "import random\n",
    "import seaborn as sns\n",
    "\n",
    "\n",
    "from IPython.display import clear_output\n",
    "\n",
    "# http://www.nltk.org/howto/wordnet.html\n",
    "\n",
    "from nltk.corpus import wordnet as wn\n",
    "from nltk.corpus import stopwords\n",
    "import sklearn\n",
    "from sklearn import preprocessing\n",
    "from sklearn.feature_extraction.text import CountVectorizer\n",
    "from sklearn.model_selection import train_test_split\n",
    "from sklearn.linear_model import LogisticRegression\n",
    "from sklearn.metrics import accuracy_score\n",
    "from sklearn.linear_model import LinearRegression\n",
    "\n",
    "from scipy import stats\n",
    "from scipy.stats import spearmanr\n",
    "from scipy.stats.stats import pearsonr\n",
    "\n",
    "\n",
    "from nltk.wsd import lesk"
   ]
  },
  {
   "cell_type": "markdown",
   "metadata": {},
   "source": [
    "## Load Data"
   ]
  },
  {
   "cell_type": "code",
   "execution_count": 5,
   "metadata": {},
   "outputs": [],
   "source": [
    "test_dir = 'C:\\\\Users\\\\Phil\\\\Sync\\\\entity-recognition-datasets-master\\\\sentiment\\\\Data\\\\IMDB Reviews\\\\IMDB Data\\\\test'\n",
    "train_dir = 'C:\\\\Users\\\\Phil\\\\Sync\\\\entity-recognition-datasets-master\\\\sentiment\\\\Data\\\\IMDB Reviews\\\\IMDB Data\\\\train'\n",
    "\n",
    "# Alternatively written as a function for importing from different directory sources\n",
    "def IMDB_to_csv( directory ):    \n",
    "    data = pd.DataFrame()\n",
    "    \n",
    "    for filename in glob.glob(str(directory)+'\\\\neg\\\\*.txt'):\n",
    "        with open(filename, 'r',  encoding=\"utf8\") as f:\n",
    "            content = f.readlines()\n",
    "            content_table = pd.DataFrame({'id':filename.split('_')[0].split('\\\\')[-1],'rating':filename.split('_')[1].split('.')[0],'pol':'neg', 'text':content})\n",
    "        data = data.append(content_table)\n",
    "        \n",
    "    for filename in glob.glob(str(directory)+'\\\\pos\\\\*.txt'):\n",
    "        with open(filename, 'r',  encoding=\"utf8\") as f:\n",
    "            content = f.readlines()\n",
    "            content_table = pd.DataFrame({'id':filename.split('_')[0].split('\\\\')[-1],'rating':filename.split('_')[1].split('.')[0],'pol':'pos', 'text':content})\n",
    "        data = data.append(content_table)\n",
    "    data = data.sort_values(['pol','id'])\n",
    "    data = data.reset_index(drop=True)\n",
    "    #data['rating_norm'] = (data['rating'] - data['rating'].min())/( data['rating'].max() - data['rating'].min() )\n",
    "\n",
    "    return(data)\n",
    "\n"
   ]
  },
  {
   "cell_type": "code",
   "execution_count": 6,
   "metadata": {},
   "outputs": [],
   "source": [
    "IMDB_train = IMDB_to_csv(train_dir)\n",
    "IMDB_train['pol_id'] = np.where(IMDB_train['pol']=='neg',-1,\n",
    "                        np.where(IMDB_train['pol']=='pos',1,0))"
   ]
  },
  {
   "cell_type": "code",
   "execution_count": 15,
   "metadata": {},
   "outputs": [
    {
     "data": {
      "text/html": [
       "<div>\n",
       "<style scoped>\n",
       "    .dataframe tbody tr th:only-of-type {\n",
       "        vertical-align: middle;\n",
       "    }\n",
       "\n",
       "    .dataframe tbody tr th {\n",
       "        vertical-align: top;\n",
       "    }\n",
       "\n",
       "    .dataframe thead th {\n",
       "        text-align: right;\n",
       "    }\n",
       "</style>\n",
       "<table border=\"1\" class=\"dataframe\">\n",
       "  <thead>\n",
       "    <tr style=\"text-align: right;\">\n",
       "      <th></th>\n",
       "      <th>id</th>\n",
       "      <th>rating</th>\n",
       "      <th>pol</th>\n",
       "      <th>text</th>\n",
       "    </tr>\n",
       "  </thead>\n",
       "  <tbody>\n",
       "    <tr>\n",
       "      <th>0</th>\n",
       "      <td>0</td>\n",
       "      <td>3</td>\n",
       "      <td>neg</td>\n",
       "      <td>Story of a man who has unnatural feelings for ...</td>\n",
       "    </tr>\n",
       "    <tr>\n",
       "      <th>1</th>\n",
       "      <td>1</td>\n",
       "      <td>1</td>\n",
       "      <td>neg</td>\n",
       "      <td>Robert DeNiro plays the most unbelievably inte...</td>\n",
       "    </tr>\n",
       "    <tr>\n",
       "      <th>2</th>\n",
       "      <td>10</td>\n",
       "      <td>2</td>\n",
       "      <td>neg</td>\n",
       "      <td>This film had a lot of promise, and the plot w...</td>\n",
       "    </tr>\n",
       "    <tr>\n",
       "      <th>3</th>\n",
       "      <td>100</td>\n",
       "      <td>3</td>\n",
       "      <td>neg</td>\n",
       "      <td>OK its not the best film I've ever seen but at...</td>\n",
       "    </tr>\n",
       "    <tr>\n",
       "      <th>4</th>\n",
       "      <td>1000</td>\n",
       "      <td>4</td>\n",
       "      <td>neg</td>\n",
       "      <td>The plot for Descent, if it actually can be ca...</td>\n",
       "    </tr>\n",
       "  </tbody>\n",
       "</table>\n",
       "</div>"
      ],
      "text/plain": [
       "     id rating  pol                                               text\n",
       "0     0      3  neg  Story of a man who has unnatural feelings for ...\n",
       "1     1      1  neg  Robert DeNiro plays the most unbelievably inte...\n",
       "2    10      2  neg  This film had a lot of promise, and the plot w...\n",
       "3   100      3  neg  OK its not the best film I've ever seen but at...\n",
       "4  1000      4  neg  The plot for Descent, if it actually can be ca..."
      ]
     },
     "execution_count": 15,
     "metadata": {},
     "output_type": "execute_result"
    }
   ],
   "source": [
    "IMDB_train.head()"
   ]
  },
  {
   "cell_type": "code",
   "execution_count": 127,
   "metadata": {},
   "outputs": [],
   "source": [
    "IMDB_test = IMDB_to_csv(test_dir)\n",
    "IMDB_test['pol_id'] = np.where(IMDB_test['pol']=='neg',-1,\n",
    "                        np.where(IMDB_test['pol']=='pos',1,0))"
   ]
  },
  {
   "cell_type": "code",
   "execution_count": 16,
   "metadata": {},
   "outputs": [
    {
     "data": {
      "text/html": [
       "<div>\n",
       "<style scoped>\n",
       "    .dataframe tbody tr th:only-of-type {\n",
       "        vertical-align: middle;\n",
       "    }\n",
       "\n",
       "    .dataframe tbody tr th {\n",
       "        vertical-align: top;\n",
       "    }\n",
       "\n",
       "    .dataframe thead th {\n",
       "        text-align: right;\n",
       "    }\n",
       "</style>\n",
       "<table border=\"1\" class=\"dataframe\">\n",
       "  <thead>\n",
       "    <tr style=\"text-align: right;\">\n",
       "      <th></th>\n",
       "      <th>id</th>\n",
       "      <th>rating</th>\n",
       "      <th>pol</th>\n",
       "      <th>text</th>\n",
       "    </tr>\n",
       "  </thead>\n",
       "  <tbody>\n",
       "    <tr>\n",
       "      <th>0</th>\n",
       "      <td>0</td>\n",
       "      <td>2</td>\n",
       "      <td>neg</td>\n",
       "      <td>Once again Mr. Costner has dragged out a movie...</td>\n",
       "    </tr>\n",
       "    <tr>\n",
       "      <th>1</th>\n",
       "      <td>1</td>\n",
       "      <td>3</td>\n",
       "      <td>neg</td>\n",
       "      <td>This is a pale imitation of 'Officer and a Gen...</td>\n",
       "    </tr>\n",
       "    <tr>\n",
       "      <th>2</th>\n",
       "      <td>10</td>\n",
       "      <td>3</td>\n",
       "      <td>neg</td>\n",
       "      <td>Years ago, when DARLING LILI played on TV, it ...</td>\n",
       "    </tr>\n",
       "    <tr>\n",
       "      <th>3</th>\n",
       "      <td>100</td>\n",
       "      <td>4</td>\n",
       "      <td>neg</td>\n",
       "      <td>I was looking forward to this movie. Trustwort...</td>\n",
       "    </tr>\n",
       "    <tr>\n",
       "      <th>4</th>\n",
       "      <td>1000</td>\n",
       "      <td>3</td>\n",
       "      <td>neg</td>\n",
       "      <td>First of all, I would like to say that I am a ...</td>\n",
       "    </tr>\n",
       "  </tbody>\n",
       "</table>\n",
       "</div>"
      ],
      "text/plain": [
       "     id rating  pol                                               text\n",
       "0     0      2  neg  Once again Mr. Costner has dragged out a movie...\n",
       "1     1      3  neg  This is a pale imitation of 'Officer and a Gen...\n",
       "2    10      3  neg  Years ago, when DARLING LILI played on TV, it ...\n",
       "3   100      4  neg  I was looking forward to this movie. Trustwort...\n",
       "4  1000      3  neg  First of all, I would like to say that I am a ..."
      ]
     },
     "execution_count": 16,
     "metadata": {},
     "output_type": "execute_result"
    }
   ],
   "source": [
    "IMDB_test.head()"
   ]
  },
  {
   "cell_type": "code",
   "execution_count": 6,
   "metadata": {},
   "outputs": [],
   "source": [
    "rt_train_path = 'C:\\\\Users\\\\Phil\\\\Sync\\\\entity-recognition-datasets-master\\\\sentiment\\\\Data\\\\RT_Sentiment\\\\train.tsv'\n",
    "rt_train_data = pd.read_csv(rt_train_path,header=0,delimiter=\"\\t\",quoting=3)\n",
    "rt_train_data['pol'] = np.where(rt_train_data['Sentiment']==3,\"neut\", np.where(rt_train_data['Sentiment']<3,\"neg\", np.where(rt_train_data['Sentiment']>3,\"pos\",\"\")))\n",
    "# Remove any neutral classified phrases\n",
    "rt_train_data = rt_train_data[rt_train_data['pol']!=\"neut\"]\n",
    "rt_train_data = rt_train_data[rt_train_data['pol']!=\"\"]\n",
    "\n",
    "rt_train_data = rt_train_data.reset_index(drop=True)\n",
    "#rt_test_path = 'E:\\\\Documents\\\\Text Data\\\\rottentomatoes\\\\test.tsv'\n",
    "#rt_test_data = pd.read_csv(rt_test_path,header=0,delimiter=\"\\t\",quoting=3)\n",
    "\n"
   ]
  },
  {
   "cell_type": "code",
   "execution_count": 100,
   "metadata": {},
   "outputs": [],
   "source": [
    "count_list = pd.DataFrame()\n",
    "for i in range(0,len(rt_train_data)):\n",
    "    count = pd.DataFrame({'count':len(rt_train_data['Phrase'][i].split())},index=[i])\n",
    "    count_list = count_list.append(count)\n",
    "count_list = count_list.reset_index(drop=True)\n",
    "rt_train_data['word_count'] = count_list['count']"
   ]
  },
  {
   "cell_type": "code",
   "execution_count": 103,
   "metadata": {},
   "outputs": [],
   "source": [
    "rt_train_data_2 = pd.DataFrame()\n",
    "for i in range(1,max(rt_train_data['SentenceId'])):\n",
    "    #Some sentence ids are not used and so we skip these\n",
    "    if (len(rt_train_data[rt_train_data['SentenceId'] == i])==0):\n",
    "        continue\n",
    "    else:\n",
    "        rt_train_data_2 = rt_train_data_2.append(rt_train_data[rt_train_data['SentenceId'] == i].sort_values('word_count', ascending=False).reset_index(drop=True).iloc[0,:])\n",
    "rt_train_data_2 = rt_train_data_2.reset_index(drop=True)\n",
    "# rename column from phrase to text for clarity\n",
    "rt_train_data_2.columns = ['text', 'textId', 'SentenceId', 'Sentiment', 'pol', 'word_count']"
   ]
  },
  {
   "cell_type": "code",
   "execution_count": 104,
   "metadata": {},
   "outputs": [
    {
     "data": {
      "text/html": [
       "<div>\n",
       "<style scoped>\n",
       "    .dataframe tbody tr th:only-of-type {\n",
       "        vertical-align: middle;\n",
       "    }\n",
       "\n",
       "    .dataframe tbody tr th {\n",
       "        vertical-align: top;\n",
       "    }\n",
       "\n",
       "    .dataframe thead th {\n",
       "        text-align: right;\n",
       "    }\n",
       "</style>\n",
       "<table border=\"1\" class=\"dataframe\">\n",
       "  <thead>\n",
       "    <tr style=\"text-align: right;\">\n",
       "      <th></th>\n",
       "      <th>text</th>\n",
       "      <th>textId</th>\n",
       "      <th>SentenceId</th>\n",
       "      <th>Sentiment</th>\n",
       "      <th>pol</th>\n",
       "      <th>word_count</th>\n",
       "      <th>pol_id</th>\n",
       "    </tr>\n",
       "  </thead>\n",
       "  <tbody>\n",
       "    <tr>\n",
       "      <th>0</th>\n",
       "      <td>A series of escapades demonstrating the adage ...</td>\n",
       "      <td>1.0</td>\n",
       "      <td>1.0</td>\n",
       "      <td>1.0</td>\n",
       "      <td>neg</td>\n",
       "      <td>37.0</td>\n",
       "      <td>-1</td>\n",
       "    </tr>\n",
       "    <tr>\n",
       "      <th>1</th>\n",
       "      <td>This quiet , introspective and entertaining in...</td>\n",
       "      <td>64.0</td>\n",
       "      <td>2.0</td>\n",
       "      <td>4.0</td>\n",
       "      <td>pos</td>\n",
       "      <td>11.0</td>\n",
       "      <td>1</td>\n",
       "    </tr>\n",
       "    <tr>\n",
       "      <th>2</th>\n",
       "      <td>Even fans of Ismail Merchant 's work , I suspe...</td>\n",
       "      <td>82.0</td>\n",
       "      <td>3.0</td>\n",
       "      <td>1.0</td>\n",
       "      <td>neg</td>\n",
       "      <td>21.0</td>\n",
       "      <td>-1</td>\n",
       "    </tr>\n",
       "    <tr>\n",
       "      <th>3</th>\n",
       "      <td>A positively thrilling combination of ethnogra...</td>\n",
       "      <td>118.0</td>\n",
       "      <td>4.0</td>\n",
       "      <td>4.0</td>\n",
       "      <td>pos</td>\n",
       "      <td>25.0</td>\n",
       "      <td>1</td>\n",
       "    </tr>\n",
       "    <tr>\n",
       "      <th>4</th>\n",
       "      <td>Aggressive self-glorification and a manipulati...</td>\n",
       "      <td>157.0</td>\n",
       "      <td>5.0</td>\n",
       "      <td>1.0</td>\n",
       "      <td>neg</td>\n",
       "      <td>7.0</td>\n",
       "      <td>-1</td>\n",
       "    </tr>\n",
       "  </tbody>\n",
       "</table>\n",
       "</div>"
      ],
      "text/plain": [
       "                                                text  textId  SentenceId  \\\n",
       "0  A series of escapades demonstrating the adage ...     1.0         1.0   \n",
       "1  This quiet , introspective and entertaining in...    64.0         2.0   \n",
       "2  Even fans of Ismail Merchant 's work , I suspe...    82.0         3.0   \n",
       "3  A positively thrilling combination of ethnogra...   118.0         4.0   \n",
       "4  Aggressive self-glorification and a manipulati...   157.0         5.0   \n",
       "\n",
       "   Sentiment  pol  word_count  pol_id  \n",
       "0        1.0  neg        37.0      -1  \n",
       "1        4.0  pos        11.0       1  \n",
       "2        1.0  neg        21.0      -1  \n",
       "3        4.0  pos        25.0       1  \n",
       "4        1.0  neg         7.0      -1  "
      ]
     },
     "execution_count": 104,
     "metadata": {},
     "output_type": "execute_result"
    }
   ],
   "source": [
    "rt_train_data_2['pol_id'] = np.where(rt_train_data_2['pol']=='neg',-1,\n",
    "                        np.where(rt_train_data_2['pol']=='pos',1,0))\n",
    "rt_train_data_2.head()"
   ]
  },
  {
   "cell_type": "code",
   "execution_count": 128,
   "metadata": {},
   "outputs": [
    {
     "name": "stderr",
     "output_type": "stream",
     "text": [
      "C:\\Users\\Phil\\Anaconda3\\lib\\site-packages\\pandas\\core\\ops.py:1649: FutureWarning: elementwise comparison failed; returning scalar instead, but in the future will perform elementwise comparison\n",
      "  result = method(y)\n"
     ]
    },
    {
     "data": {
      "text/html": [
       "<div>\n",
       "<style scoped>\n",
       "    .dataframe tbody tr th:only-of-type {\n",
       "        vertical-align: middle;\n",
       "    }\n",
       "\n",
       "    .dataframe tbody tr th {\n",
       "        vertical-align: top;\n",
       "    }\n",
       "\n",
       "    .dataframe thead th {\n",
       "        text-align: right;\n",
       "    }\n",
       "</style>\n",
       "<table border=\"1\" class=\"dataframe\">\n",
       "  <thead>\n",
       "    <tr style=\"text-align: right;\">\n",
       "      <th></th>\n",
       "      <th>ItemID</th>\n",
       "      <th>pol</th>\n",
       "      <th>text</th>\n",
       "      <th>pol_id</th>\n",
       "    </tr>\n",
       "  </thead>\n",
       "  <tbody>\n",
       "    <tr>\n",
       "      <th>0</th>\n",
       "      <td>1</td>\n",
       "      <td>0</td>\n",
       "      <td>is so sad for my APL frie...</td>\n",
       "      <td>0</td>\n",
       "    </tr>\n",
       "    <tr>\n",
       "      <th>1</th>\n",
       "      <td>2</td>\n",
       "      <td>0</td>\n",
       "      <td>I missed the New Moon trail...</td>\n",
       "      <td>0</td>\n",
       "    </tr>\n",
       "    <tr>\n",
       "      <th>2</th>\n",
       "      <td>3</td>\n",
       "      <td>1</td>\n",
       "      <td>omg its already 7:30 :O</td>\n",
       "      <td>0</td>\n",
       "    </tr>\n",
       "    <tr>\n",
       "      <th>3</th>\n",
       "      <td>4</td>\n",
       "      <td>0</td>\n",
       "      <td>.. Omgaga. Im sooo  im gunna CRy. I'...</td>\n",
       "      <td>0</td>\n",
       "    </tr>\n",
       "    <tr>\n",
       "      <th>4</th>\n",
       "      <td>5</td>\n",
       "      <td>0</td>\n",
       "      <td>i think mi bf is cheating on me!!!   ...</td>\n",
       "      <td>0</td>\n",
       "    </tr>\n",
       "  </tbody>\n",
       "</table>\n",
       "</div>"
      ],
      "text/plain": [
       "   ItemID  pol                                               text  pol_id\n",
       "0       1    0                       is so sad for my APL frie...       0\n",
       "1       2    0                     I missed the New Moon trail...       0\n",
       "2       3    1                            omg its already 7:30 :O       0\n",
       "3       4    0            .. Omgaga. Im sooo  im gunna CRy. I'...       0\n",
       "4       5    0           i think mi bf is cheating on me!!!   ...       0"
      ]
     },
     "execution_count": 128,
     "metadata": {},
     "output_type": "execute_result"
    }
   ],
   "source": [
    "twitter_train_path = 'C:\\\\Users\\\\Phil\\\\Sync\\\\entity-recognition-datasets-master\\\\sentiment\\\\Data\\\\twitter\\\\train.csv'\n",
    "twitter_train = pd.read_csv(twitter_train_path, encoding=\"ISO-8859-1\")\n",
    "twitter_train.columns = ['ItemID','pol','text']\n",
    "twitter_train['pol_id'] = np.where(twitter_train['pol']=='neg',-1,\n",
    "                        np.where(twitter_train['pol']=='pos',1,0))\n",
    "twitter_train.head()"
   ]
  },
  {
   "cell_type": "code",
   "execution_count": 161,
   "metadata": {},
   "outputs": [
    {
     "data": {
      "text/html": [
       "<div>\n",
       "<style scoped>\n",
       "    .dataframe tbody tr th:only-of-type {\n",
       "        vertical-align: middle;\n",
       "    }\n",
       "\n",
       "    .dataframe tbody tr th {\n",
       "        vertical-align: top;\n",
       "    }\n",
       "\n",
       "    .dataframe thead th {\n",
       "        text-align: right;\n",
       "    }\n",
       "</style>\n",
       "<table border=\"1\" class=\"dataframe\">\n",
       "  <thead>\n",
       "    <tr style=\"text-align: right;\">\n",
       "      <th></th>\n",
       "      <th>text</th>\n",
       "      <th>product</th>\n",
       "      <th>pol</th>\n",
       "      <th>pol_id</th>\n",
       "    </tr>\n",
       "  </thead>\n",
       "  <tbody>\n",
       "    <tr>\n",
       "      <th>0</th>\n",
       "      <td>.@wesley83 I have a 3G iPhone. After 3 hrs twe...</td>\n",
       "      <td>iPhone</td>\n",
       "      <td>Negative emotion</td>\n",
       "      <td>-1</td>\n",
       "    </tr>\n",
       "    <tr>\n",
       "      <th>1</th>\n",
       "      <td>@jessedee Know about @fludapp ? Awesome iPad/i...</td>\n",
       "      <td>iPad or iPhone App</td>\n",
       "      <td>Positive emotion</td>\n",
       "      <td>1</td>\n",
       "    </tr>\n",
       "    <tr>\n",
       "      <th>2</th>\n",
       "      <td>@swonderlin Can not wait for #iPad 2 also. The...</td>\n",
       "      <td>iPad</td>\n",
       "      <td>Positive emotion</td>\n",
       "      <td>1</td>\n",
       "    </tr>\n",
       "    <tr>\n",
       "      <th>3</th>\n",
       "      <td>@sxsw I hope this year's festival isn't as cra...</td>\n",
       "      <td>iPad or iPhone App</td>\n",
       "      <td>Negative emotion</td>\n",
       "      <td>-1</td>\n",
       "    </tr>\n",
       "    <tr>\n",
       "      <th>4</th>\n",
       "      <td>@sxtxstate great stuff on Fri #SXSW: Marissa M...</td>\n",
       "      <td>Google</td>\n",
       "      <td>Positive emotion</td>\n",
       "      <td>1</td>\n",
       "    </tr>\n",
       "  </tbody>\n",
       "</table>\n",
       "</div>"
      ],
      "text/plain": [
       "                                                text             product  \\\n",
       "0  .@wesley83 I have a 3G iPhone. After 3 hrs twe...              iPhone   \n",
       "1  @jessedee Know about @fludapp ? Awesome iPad/i...  iPad or iPhone App   \n",
       "2  @swonderlin Can not wait for #iPad 2 also. The...                iPad   \n",
       "3  @sxsw I hope this year's festival isn't as cra...  iPad or iPhone App   \n",
       "4  @sxtxstate great stuff on Fri #SXSW: Marissa M...              Google   \n",
       "\n",
       "                pol  pol_id  \n",
       "0  Negative emotion      -1  \n",
       "1  Positive emotion       1  \n",
       "2  Positive emotion       1  \n",
       "3  Negative emotion      -1  \n",
       "4  Positive emotion       1  "
      ]
     },
     "execution_count": 161,
     "metadata": {},
     "output_type": "execute_result"
    }
   ],
   "source": [
    "twitter_products_path = 'C:\\\\Users\\\\Phil\\\\Sync\\\\entity-recognition-datasets-master\\\\sentiment\\\\Data\\\\twitter\\\\judge-1377884607_tweet_product_company.csv'\n",
    "twitter_products = pd.read_csv(twitter_products_path, encoding=\"ISO-8859-1\")\n",
    "twitter_products.columns = ['text','product','pol']\n",
    "twitter_products['pol_id'] = np.where(twitter_products['pol']=='Negative emotion',-1,\n",
    "                        np.where(twitter_products['pol']=='Positive emotion',1,0))\n",
    "twitter_products.head()"
   ]
  },
  {
   "cell_type": "code",
   "execution_count": 165,
   "metadata": {},
   "outputs": [
    {
     "data": {
      "text/html": [
       "<div>\n",
       "<style scoped>\n",
       "    .dataframe tbody tr th:only-of-type {\n",
       "        vertical-align: middle;\n",
       "    }\n",
       "\n",
       "    .dataframe tbody tr th {\n",
       "        vertical-align: top;\n",
       "    }\n",
       "\n",
       "    .dataframe thead th {\n",
       "        text-align: right;\n",
       "    }\n",
       "</style>\n",
       "<table border=\"1\" class=\"dataframe\">\n",
       "  <thead>\n",
       "    <tr style=\"text-align: right;\">\n",
       "      <th></th>\n",
       "      <th>unique_id</th>\n",
       "      <th>text</th>\n",
       "      <th>pol</th>\n",
       "      <th>type</th>\n",
       "      <th>id</th>\n",
       "      <th>pol_id</th>\n",
       "    </tr>\n",
       "  </thead>\n",
       "  <tbody>\n",
       "    <tr>\n",
       "      <th>0</th>\n",
       "      <td>15092$ZSL</td>\n",
       "      <td>$ZSL looking very weak, could be a good short ...</td>\n",
       "      <td>-0.614</td>\n",
       "      <td>stocktwits</td>\n",
       "      <td>5711044.0</td>\n",
       "      <td>-1</td>\n",
       "    </tr>\n",
       "    <tr>\n",
       "      <th>1</th>\n",
       "      <td>15274$ZNGA</td>\n",
       "      <td>$ZNGA http://stks.co/3rdu Looking for a test a...</td>\n",
       "      <td>0.248</td>\n",
       "      <td>stocktwits</td>\n",
       "      <td>8011704.0</td>\n",
       "      <td>1</td>\n",
       "    </tr>\n",
       "    <tr>\n",
       "      <th>2</th>\n",
       "      <td>15398$ZNGA</td>\n",
       "      <td>$ZNGA did they prerelease sh*tty earnings or s...</td>\n",
       "      <td>-0.310</td>\n",
       "      <td>stocktwits</td>\n",
       "      <td>7706929.0</td>\n",
       "      <td>-1</td>\n",
       "    </tr>\n",
       "    <tr>\n",
       "      <th>3</th>\n",
       "      <td>15415$ZNGA</td>\n",
       "      <td>#ContrarianAlert: Why Zynga Failed - http://st...</td>\n",
       "      <td>-0.361</td>\n",
       "      <td>stocktwits</td>\n",
       "      <td>9862989.0</td>\n",
       "      <td>-1</td>\n",
       "    </tr>\n",
       "    <tr>\n",
       "      <th>4</th>\n",
       "      <td>15939$ZNGA</td>\n",
       "      <td>\"@IfHeDiesHeDies: \"@Bullhorn334: $ZNGA shorts ...</td>\n",
       "      <td>0.366</td>\n",
       "      <td>stocktwits</td>\n",
       "      <td>11964100.0</td>\n",
       "      <td>1</td>\n",
       "    </tr>\n",
       "  </tbody>\n",
       "</table>\n",
       "</div>"
      ],
      "text/plain": [
       "    unique_id                                               text    pol  \\\n",
       "0   15092$ZSL  $ZSL looking very weak, could be a good short ... -0.614   \n",
       "1  15274$ZNGA  $ZNGA http://stks.co/3rdu Looking for a test a...  0.248   \n",
       "2  15398$ZNGA  $ZNGA did they prerelease sh*tty earnings or s... -0.310   \n",
       "3  15415$ZNGA  #ContrarianAlert: Why Zynga Failed - http://st... -0.361   \n",
       "4  15939$ZNGA  \"@IfHeDiesHeDies: \"@Bullhorn334: $ZNGA shorts ...  0.366   \n",
       "\n",
       "         type          id  pol_id  \n",
       "0  stocktwits   5711044.0      -1  \n",
       "1  stocktwits   8011704.0       1  \n",
       "2  stocktwits   7706929.0      -1  \n",
       "3  stocktwits   9862989.0      -1  \n",
       "4  stocktwits  11964100.0       1  "
      ]
     },
     "execution_count": 165,
     "metadata": {},
     "output_type": "execute_result"
    }
   ],
   "source": [
    "finance_messages_path = 'C:\\\\Users\\\\Phil\\\\Sync\\\\entity-recognition-datasets-master\\\\sentiment\\\\Data\\\\finance\\\\EnglishGS.csv'\n",
    "finance_messages = pd.read_csv(finance_messages_path)\n",
    "finance_messages.columns = ['unique_id','text','pol','type','id']\n",
    "\n",
    "finance_messages['pol_id'] = np.where(finance_messages['pol']<0,-1,\n",
    "                        np.where(finance_messages['pol']>0,1,0))\n",
    "finance_messages.head()"
   ]
  },
  {
   "cell_type": "code",
   "execution_count": 167,
   "metadata": {},
   "outputs": [
    {
     "data": {
      "text/html": [
       "<div>\n",
       "<style scoped>\n",
       "    .dataframe tbody tr th:only-of-type {\n",
       "        vertical-align: middle;\n",
       "    }\n",
       "\n",
       "    .dataframe tbody tr th {\n",
       "        vertical-align: top;\n",
       "    }\n",
       "\n",
       "    .dataframe thead th {\n",
       "        text-align: right;\n",
       "    }\n",
       "</style>\n",
       "<table border=\"1\" class=\"dataframe\">\n",
       "  <thead>\n",
       "    <tr style=\"text-align: right;\">\n",
       "      <th></th>\n",
       "      <th>unique_id</th>\n",
       "      <th>company</th>\n",
       "      <th>company_fixed</th>\n",
       "      <th>text</th>\n",
       "      <th>pol</th>\n",
       "      <th>num_scores</th>\n",
       "      <th>pol_id</th>\n",
       "    </tr>\n",
       "  </thead>\n",
       "  <tbody>\n",
       "    <tr>\n",
       "      <th>0</th>\n",
       "      <td>0_Cuadrilla</td>\n",
       "      <td>Cuadrilla</td>\n",
       "      <td>Cuadrilla</td>\n",
       "      <td>Cuadrilla files to delay application to frack ...</td>\n",
       "      <td>-0.416</td>\n",
       "      <td>3</td>\n",
       "      <td>-1</td>\n",
       "    </tr>\n",
       "    <tr>\n",
       "      <th>1</th>\n",
       "      <td>1_Royal Mail</td>\n",
       "      <td>Royal Mail</td>\n",
       "      <td>Royal Mail</td>\n",
       "      <td>Royal Mail chairman Donald Brydon set to step ...</td>\n",
       "      <td>-0.374</td>\n",
       "      <td>3</td>\n",
       "      <td>-1</td>\n",
       "    </tr>\n",
       "    <tr>\n",
       "      <th>2</th>\n",
       "      <td>10_EasyJet</td>\n",
       "      <td>EasyJet</td>\n",
       "      <td>EasyJet</td>\n",
       "      <td>UPDATE 2-EasyJet sees better first half on low...</td>\n",
       "      <td>0.778</td>\n",
       "      <td>3</td>\n",
       "      <td>1</td>\n",
       "    </tr>\n",
       "    <tr>\n",
       "      <th>3</th>\n",
       "      <td>100_Weir</td>\n",
       "      <td>Weir</td>\n",
       "      <td>Weir Group</td>\n",
       "      <td>Slump in Weir leads FTSE down from record high</td>\n",
       "      <td>-0.827</td>\n",
       "      <td>3</td>\n",
       "      <td>-1</td>\n",
       "    </tr>\n",
       "    <tr>\n",
       "      <th>4</th>\n",
       "      <td>1000_AstraZeneca</td>\n",
       "      <td>AstraZeneca</td>\n",
       "      <td>AstraZeneca</td>\n",
       "      <td>AstraZeneca wins FDA approval for key new lung...</td>\n",
       "      <td>0.549</td>\n",
       "      <td>3</td>\n",
       "      <td>1</td>\n",
       "    </tr>\n",
       "  </tbody>\n",
       "</table>\n",
       "</div>"
      ],
      "text/plain": [
       "          unique_id      company company_fixed  \\\n",
       "0       0_Cuadrilla    Cuadrilla     Cuadrilla   \n",
       "1      1_Royal Mail   Royal Mail    Royal Mail   \n",
       "2        10_EasyJet      EasyJet       EasyJet   \n",
       "3          100_Weir         Weir    Weir Group   \n",
       "4  1000_AstraZeneca  AstraZeneca   AstraZeneca   \n",
       "\n",
       "                                                text    pol  num_scores  \\\n",
       "0  Cuadrilla files to delay application to frack ... -0.416           3   \n",
       "1  Royal Mail chairman Donald Brydon set to step ... -0.374           3   \n",
       "2  UPDATE 2-EasyJet sees better first half on low...  0.778           3   \n",
       "3     Slump in Weir leads FTSE down from record high -0.827           3   \n",
       "4  AstraZeneca wins FDA approval for key new lung...  0.549           3   \n",
       "\n",
       "   pol_id  \n",
       "0      -1  \n",
       "1      -1  \n",
       "2       1  \n",
       "3      -1  \n",
       "4       1  "
      ]
     },
     "execution_count": 167,
     "metadata": {},
     "output_type": "execute_result"
    }
   ],
   "source": [
    "finance_headlines_path = 'C:\\\\Users\\\\Phil\\\\Sync\\\\entity-recognition-datasets-master\\\\sentiment\\\\Data\\\\finance\\\\SSIX News headlines Gold Standard EN.csv'\n",
    "finance_headlines = pd.read_csv(finance_headlines_path)\n",
    "finance_headlines.columns = ['unique_id','company','company_fixed','text','pol','num_scores']\n",
    "\n",
    "finance_headlines['pol_id'] = np.where(finance_headlines['pol']<0,-1,\n",
    "                        np.where(finance_headlines['pol']>0,1,0))\n",
    "finance_headlines.head()\n"
   ]
  },
  {
   "cell_type": "markdown",
   "metadata": {},
   "source": [
    "## Apply TextBlob pre-trained Sentiment Analysis"
   ]
  },
  {
   "cell_type": "code",
   "execution_count": 10,
   "metadata": {},
   "outputs": [],
   "source": [
    "from textblob import TextBlob\n"
   ]
  },
  {
   "cell_type": "code",
   "execution_count": 46,
   "metadata": {},
   "outputs": [
    {
     "name": "stdout",
     "output_type": "stream",
     "text": [
      "0.06000000000000001\n",
      "-0.34166666666666673\n"
     ]
    }
   ],
   "source": [
    "text = '''\n",
    "The titular threat of The Blob has always struck me as the ultimate movie\n",
    "monster: an insatiably hungry, amoeba-like mass able to penetrate\n",
    "virtually any safeguard, capable of--as a doomed doctor chillingly\n",
    "describes it--\"assimilating flesh on contact.\n",
    "Snide comparisons to gelatin be damned, it's a concept with the most\n",
    "devastating of potential consequences, not unlike the grey goo scenario\n",
    "proposed by technological theorists fearful of\n",
    "artificial intelligence run rampant.\n",
    "'''\n",
    "\n",
    "blob = TextBlob(text)\n",
    "                                      \n",
    "for sentence in blob.sentences:\n",
    "    print(sentence.sentiment.polarity)"
   ]
  },
  {
   "cell_type": "code",
   "execution_count": 47,
   "metadata": {},
   "outputs": [
    {
     "data": {
      "text/plain": [
       "TextBlob(\"\n",
       "The titular threat of The Blob has always struck me as the ultimate movie\n",
       "monster: an insatiably hungry, amoeba-like mass able to penetrate\n",
       "virtually any safeguard, capable of--as a doomed doctor chillingly\n",
       "describes it--\"assimilating flesh on contact.\n",
       "Snide comparisons to gelatin be damned, it's a concept with the most\n",
       "devastating of potential consequences, not unlike the grey goo scenario\n",
       "proposed by technological theorists fearful of\n",
       "artificial intelligence run rampant.\n",
       "\")"
      ]
     },
     "execution_count": 47,
     "metadata": {},
     "output_type": "execute_result"
    }
   ],
   "source": [
    "blob"
   ]
  },
  {
   "cell_type": "code",
   "execution_count": 67,
   "metadata": {},
   "outputs": [],
   "source": [
    "def text_blob(data_column):\n",
    "    output_labels = pd.DataFrame()\n",
    "    for n,phrases in enumerate(data_column):\n",
    "        blob = TextBlob(phrases)\n",
    "        polarity = blob.sentiment.polarity\n",
    "        \n",
    "        if polarity > 0:\n",
    "            label = 1\n",
    "        elif polarity == 0:\n",
    "            label = 0\n",
    "        else:\n",
    "            label = -1\n",
    "        \n",
    "        output_labels = output_labels.append(pd.DataFrame({'label':label},index=[n]))\n",
    "        \n",
    "    return(output_labels['label'])\n",
    "            "
   ]
  },
  {
   "cell_type": "code",
   "execution_count": 51,
   "metadata": {},
   "outputs": [
    {
     "data": {
      "text/plain": [
       "['Story of a man who has unnatural feelings for a pig',\n",
       " ' Starts out with a opening scene that is a terrific example of absurd comedy',\n",
       " \" A formal orchestra audience is turned into an insane, violent mob by the crazy chantings of it's singers\",\n",
       " ' Unfortunately it stays absurd the WHOLE time with no general narrative eventually making it just too off putting',\n",
       " ' Even those from the era should be turned off',\n",
       " ' The cryptic dialogue would make Shakespeare seem easy to a third grader',\n",
       " \" On a technical level it's better than you might think with some good cinematography by future great Vilmos Zsigmond\",\n",
       " ' Future stars Sally Kirkland and Frederic Forrest can be seen briefly',\n",
       " '']"
      ]
     },
     "execution_count": 51,
     "metadata": {},
     "output_type": "execute_result"
    }
   ],
   "source": [
    "IMDB_train['text'][0].split('.')"
   ]
  },
  {
   "cell_type": "code",
   "execution_count": 64,
   "metadata": {},
   "outputs": [
    {
     "name": "stdout",
     "output_type": "stream",
     "text": [
      "-0.07175925925925922\n"
     ]
    }
   ],
   "source": [
    "for n,phrases in enumerate(IMDB_train['text'][0:1]):\n",
    "    blob = TextBlob(phrases)\n",
    "    phrase_sentence_pol = pd.DataFrame()\n",
    "    print(blob.sentiment.polarity)"
   ]
  },
  {
   "cell_type": "code",
   "execution_count": 62,
   "metadata": {},
   "outputs": [
    {
     "data": {
      "text/plain": [
       "TextBlob(\"Robert DeNiro plays the most unbelievably intelligent illiterate of all time. This movie is so wasteful of talent, it is truly disgusting. The script is unbelievable. The dialog is unbelievable. Jane Fonda's character is a caricature of herself, and not a funny one. The movie moves at a snail's pace, is photographed in an ill-advised manner, and is insufferably preachy. It also plugs in every cliche in the book. Swoozie Kurtz is excellent in a supporting role, but so what?<br /><br />Equally annoying is this new IMDB rule of requiring ten lines for every review. When a movie is this worthless, it doesn't require ten lines of text to let other readers know that it is a waste of time and tape. Avoid this movie.\")"
      ]
     },
     "execution_count": 62,
     "metadata": {},
     "output_type": "execute_result"
    }
   ],
   "source": [
    "blob"
   ]
  },
  {
   "cell_type": "code",
   "execution_count": 68,
   "metadata": {},
   "outputs": [
    {
     "data": {
      "text/html": [
       "<div>\n",
       "<style scoped>\n",
       "    .dataframe tbody tr th:only-of-type {\n",
       "        vertical-align: middle;\n",
       "    }\n",
       "\n",
       "    .dataframe tbody tr th {\n",
       "        vertical-align: top;\n",
       "    }\n",
       "\n",
       "    .dataframe thead th {\n",
       "        text-align: right;\n",
       "    }\n",
       "</style>\n",
       "<table border=\"1\" class=\"dataframe\">\n",
       "  <thead>\n",
       "    <tr style=\"text-align: right;\">\n",
       "      <th></th>\n",
       "      <th>id</th>\n",
       "      <th>rating</th>\n",
       "      <th>pol</th>\n",
       "      <th>text</th>\n",
       "      <th>text_blob</th>\n",
       "      <th>pol_id</th>\n",
       "    </tr>\n",
       "  </thead>\n",
       "  <tbody>\n",
       "    <tr>\n",
       "      <th>0</th>\n",
       "      <td>0</td>\n",
       "      <td>3</td>\n",
       "      <td>neg</td>\n",
       "      <td>Story of a man who has unnatural feelings for ...</td>\n",
       "      <td>-1</td>\n",
       "      <td>-1</td>\n",
       "    </tr>\n",
       "    <tr>\n",
       "      <th>1</th>\n",
       "      <td>1</td>\n",
       "      <td>1</td>\n",
       "      <td>neg</td>\n",
       "      <td>Robert DeNiro plays the most unbelievably inte...</td>\n",
       "      <td>-1</td>\n",
       "      <td>-1</td>\n",
       "    </tr>\n",
       "    <tr>\n",
       "      <th>2</th>\n",
       "      <td>10</td>\n",
       "      <td>2</td>\n",
       "      <td>neg</td>\n",
       "      <td>This film had a lot of promise, and the plot w...</td>\n",
       "      <td>-1</td>\n",
       "      <td>-1</td>\n",
       "    </tr>\n",
       "    <tr>\n",
       "      <th>3</th>\n",
       "      <td>100</td>\n",
       "      <td>3</td>\n",
       "      <td>neg</td>\n",
       "      <td>OK its not the best film I've ever seen but at...</td>\n",
       "      <td>1</td>\n",
       "      <td>-1</td>\n",
       "    </tr>\n",
       "    <tr>\n",
       "      <th>4</th>\n",
       "      <td>1000</td>\n",
       "      <td>4</td>\n",
       "      <td>neg</td>\n",
       "      <td>The plot for Descent, if it actually can be ca...</td>\n",
       "      <td>-1</td>\n",
       "      <td>-1</td>\n",
       "    </tr>\n",
       "  </tbody>\n",
       "</table>\n",
       "</div>"
      ],
      "text/plain": [
       "     id rating  pol                                               text  \\\n",
       "0     0      3  neg  Story of a man who has unnatural feelings for ...   \n",
       "1     1      1  neg  Robert DeNiro plays the most unbelievably inte...   \n",
       "2    10      2  neg  This film had a lot of promise, and the plot w...   \n",
       "3   100      3  neg  OK its not the best film I've ever seen but at...   \n",
       "4  1000      4  neg  The plot for Descent, if it actually can be ca...   \n",
       "\n",
       "   text_blob  pol_id  \n",
       "0         -1      -1  \n",
       "1         -1      -1  \n",
       "2         -1      -1  \n",
       "3          1      -1  \n",
       "4         -1      -1  "
      ]
     },
     "execution_count": 68,
     "metadata": {},
     "output_type": "execute_result"
    }
   ],
   "source": [
    "IMDB_train['text_blob'] = text_blob(IMDB_train['text'])\n",
    "IMDB_train.head()"
   ]
  },
  {
   "cell_type": "code",
   "execution_count": 69,
   "metadata": {},
   "outputs": [
    {
     "data": {
      "text/html": [
       "<div>\n",
       "<style scoped>\n",
       "    .dataframe tbody tr th:only-of-type {\n",
       "        vertical-align: middle;\n",
       "    }\n",
       "\n",
       "    .dataframe tbody tr th {\n",
       "        vertical-align: top;\n",
       "    }\n",
       "\n",
       "    .dataframe thead th {\n",
       "        text-align: right;\n",
       "    }\n",
       "</style>\n",
       "<table border=\"1\" class=\"dataframe\">\n",
       "  <thead>\n",
       "    <tr style=\"text-align: right;\">\n",
       "      <th></th>\n",
       "      <th>id</th>\n",
       "      <th>rating</th>\n",
       "      <th>pol</th>\n",
       "      <th>text</th>\n",
       "      <th>text_blob</th>\n",
       "      <th>pol_id</th>\n",
       "    </tr>\n",
       "  </thead>\n",
       "  <tbody>\n",
       "    <tr>\n",
       "      <th>0</th>\n",
       "      <td>0</td>\n",
       "      <td>3</td>\n",
       "      <td>neg</td>\n",
       "      <td>Story of a man who has unnatural feelings for ...</td>\n",
       "      <td>-1</td>\n",
       "      <td>-1</td>\n",
       "    </tr>\n",
       "    <tr>\n",
       "      <th>1</th>\n",
       "      <td>1</td>\n",
       "      <td>1</td>\n",
       "      <td>neg</td>\n",
       "      <td>Robert DeNiro plays the most unbelievably inte...</td>\n",
       "      <td>-1</td>\n",
       "      <td>-1</td>\n",
       "    </tr>\n",
       "    <tr>\n",
       "      <th>2</th>\n",
       "      <td>10</td>\n",
       "      <td>2</td>\n",
       "      <td>neg</td>\n",
       "      <td>This film had a lot of promise, and the plot w...</td>\n",
       "      <td>-1</td>\n",
       "      <td>-1</td>\n",
       "    </tr>\n",
       "    <tr>\n",
       "      <th>3</th>\n",
       "      <td>100</td>\n",
       "      <td>3</td>\n",
       "      <td>neg</td>\n",
       "      <td>OK its not the best film I've ever seen but at...</td>\n",
       "      <td>1</td>\n",
       "      <td>-1</td>\n",
       "    </tr>\n",
       "    <tr>\n",
       "      <th>4</th>\n",
       "      <td>1000</td>\n",
       "      <td>4</td>\n",
       "      <td>neg</td>\n",
       "      <td>The plot for Descent, if it actually can be ca...</td>\n",
       "      <td>-1</td>\n",
       "      <td>-1</td>\n",
       "    </tr>\n",
       "  </tbody>\n",
       "</table>\n",
       "</div>"
      ],
      "text/plain": [
       "     id rating  pol                                               text  \\\n",
       "0     0      3  neg  Story of a man who has unnatural feelings for ...   \n",
       "1     1      1  neg  Robert DeNiro plays the most unbelievably inte...   \n",
       "2    10      2  neg  This film had a lot of promise, and the plot w...   \n",
       "3   100      3  neg  OK its not the best film I've ever seen but at...   \n",
       "4  1000      4  neg  The plot for Descent, if it actually can be ca...   \n",
       "\n",
       "   text_blob  pol_id  \n",
       "0         -1      -1  \n",
       "1         -1      -1  \n",
       "2         -1      -1  \n",
       "3          1      -1  \n",
       "4         -1      -1  "
      ]
     },
     "execution_count": 69,
     "metadata": {},
     "output_type": "execute_result"
    }
   ],
   "source": [
    "IMDB_train['pol_id'] = np.where(IMDB_train['pol']=='neg',-1,\n",
    "                        np.where(IMDB_train['pol']=='pos',1,0))\n",
    "IMDB_train.head()"
   ]
  },
  {
   "cell_type": "code",
   "execution_count": 70,
   "metadata": {},
   "outputs": [
    {
     "name": "stderr",
     "output_type": "stream",
     "text": [
      "C:\\Users\\Phil\\Anaconda3\\lib\\site-packages\\sklearn\\metrics\\classification.py:1145: UndefinedMetricWarning: Recall is ill-defined and being set to 0.0 in labels with no true samples.\n",
      "  'recall', 'true', average, warn_for)\n"
     ]
    }
   ],
   "source": [
    "precision_applied = sklearn.metrics.precision_score(IMDB_train['pol_id'],\n",
    "                                                            IMDB_train['text_blob'], average='weighted')\n",
    "recall_applied = sklearn.metrics.recall_score(IMDB_train['pol_id'],\n",
    "                                                            IMDB_train['text_blob'], average='weighted')\n",
    "\n",
    "F1_applied = 2 * (precision_applied * recall_applied) / (precision_applied + recall_applied)\n"
   ]
  },
  {
   "cell_type": "code",
   "execution_count": 71,
   "metadata": {},
   "outputs": [
    {
     "data": {
      "text/plain": [
       "0.7180046132278655"
      ]
     },
     "execution_count": 71,
     "metadata": {},
     "output_type": "execute_result"
    }
   ],
   "source": [
    "F1_applied"
   ]
  },
  {
   "cell_type": "code",
   "execution_count": 81,
   "metadata": {},
   "outputs": [
    {
     "data": {
      "text/plain": [
       "'pos'"
      ]
     },
     "execution_count": 81,
     "metadata": {},
     "output_type": "execute_result"
    }
   ],
   "source": [
    "from textblob.sentiments import NaiveBayesAnalyzer\n",
    "blob = TextBlob(\"neutral\", analyzer=NaiveBayesAnalyzer())\n",
    "blob.sentiment.classification"
   ]
  },
  {
   "cell_type": "code",
   "execution_count": 89,
   "metadata": {},
   "outputs": [],
   "source": [
    "def text_blob_NB(data_column):\n",
    "    output_labels = pd.DataFrame()\n",
    "    for n,phrases in enumerate(data_column):\n",
    "        clear_output(wait=True)\n",
    "        print(\"Completed:\", np.round(n/len(data_column)*100),\"%\")\n",
    "        blob = TextBlob(phrases,analyzer=NaiveBayesAnalyzer())\n",
    "        polarity = blob.sentiment.classification\n",
    "        \n",
    "        if polarity == 'pos':\n",
    "            label = 1\n",
    "        elif polarity == 'neg':\n",
    "            label = -1\n",
    "        else:\n",
    "            label = 0\n",
    "        \n",
    "        output_labels = output_labels.append(pd.DataFrame({'label':label},index=[n]))\n",
    "        \n",
    "    return(output_labels['label'])\n",
    "            "
   ]
  },
  {
   "cell_type": "code",
   "execution_count": 91,
   "metadata": {},
   "outputs": [
    {
     "name": "stdout",
     "output_type": "stream",
     "text": [
      "Completed: 90.0 %\n"
     ]
    },
    {
     "ename": "ValueError",
     "evalue": "Classification metrics can't handle a mix of binary and continuous targets",
     "output_type": "error",
     "traceback": [
      "\u001b[1;31m---------------------------------------------------------------------------\u001b[0m",
      "\u001b[1;31mValueError\u001b[0m                                Traceback (most recent call last)",
      "\u001b[1;32m<ipython-input-91-126f340e6fbb>\u001b[0m in \u001b[0;36m<module>\u001b[1;34m\u001b[0m\n\u001b[0;32m      8\u001b[0m                         np.where(IMDB_train['pol']=='pos',1,0))\n\u001b[0;32m      9\u001b[0m precision_applied = sklearn.metrics.precision_score(IMDB_train['pol_id'],\n\u001b[1;32m---> 10\u001b[1;33m                                                             IMDB_train['text_blob'], average='weighted')\n\u001b[0m\u001b[0;32m     11\u001b[0m recall_applied = sklearn.metrics.recall_score(IMDB_train['pol_id'],\n\u001b[0;32m     12\u001b[0m                                                             IMDB_train['text_blob'], average='weighted')\n",
      "\u001b[1;32m~\\Anaconda3\\lib\\site-packages\\sklearn\\metrics\\classification.py\u001b[0m in \u001b[0;36mprecision_score\u001b[1;34m(y_true, y_pred, labels, pos_label, average, sample_weight)\u001b[0m\n\u001b[0;32m   1267\u001b[0m                                                  \u001b[0maverage\u001b[0m\u001b[1;33m=\u001b[0m\u001b[0maverage\u001b[0m\u001b[1;33m,\u001b[0m\u001b[1;33m\u001b[0m\u001b[1;33m\u001b[0m\u001b[0m\n\u001b[0;32m   1268\u001b[0m                                                  \u001b[0mwarn_for\u001b[0m\u001b[1;33m=\u001b[0m\u001b[1;33m(\u001b[0m\u001b[1;34m'precision'\u001b[0m\u001b[1;33m,\u001b[0m\u001b[1;33m)\u001b[0m\u001b[1;33m,\u001b[0m\u001b[1;33m\u001b[0m\u001b[1;33m\u001b[0m\u001b[0m\n\u001b[1;32m-> 1269\u001b[1;33m                                                  sample_weight=sample_weight)\n\u001b[0m\u001b[0;32m   1270\u001b[0m     \u001b[1;32mreturn\u001b[0m \u001b[0mp\u001b[0m\u001b[1;33m\u001b[0m\u001b[1;33m\u001b[0m\u001b[0m\n\u001b[0;32m   1271\u001b[0m \u001b[1;33m\u001b[0m\u001b[0m\n",
      "\u001b[1;32m~\\Anaconda3\\lib\\site-packages\\sklearn\\metrics\\classification.py\u001b[0m in \u001b[0;36mprecision_recall_fscore_support\u001b[1;34m(y_true, y_pred, beta, labels, pos_label, average, warn_for, sample_weight)\u001b[0m\n\u001b[0;32m   1029\u001b[0m         \u001b[1;32mraise\u001b[0m \u001b[0mValueError\u001b[0m\u001b[1;33m(\u001b[0m\u001b[1;34m\"beta should be >0 in the F-beta score\"\u001b[0m\u001b[1;33m)\u001b[0m\u001b[1;33m\u001b[0m\u001b[1;33m\u001b[0m\u001b[0m\n\u001b[0;32m   1030\u001b[0m \u001b[1;33m\u001b[0m\u001b[0m\n\u001b[1;32m-> 1031\u001b[1;33m     \u001b[0my_type\u001b[0m\u001b[1;33m,\u001b[0m \u001b[0my_true\u001b[0m\u001b[1;33m,\u001b[0m \u001b[0my_pred\u001b[0m \u001b[1;33m=\u001b[0m \u001b[0m_check_targets\u001b[0m\u001b[1;33m(\u001b[0m\u001b[0my_true\u001b[0m\u001b[1;33m,\u001b[0m \u001b[0my_pred\u001b[0m\u001b[1;33m)\u001b[0m\u001b[1;33m\u001b[0m\u001b[1;33m\u001b[0m\u001b[0m\n\u001b[0m\u001b[0;32m   1032\u001b[0m     \u001b[0mcheck_consistent_length\u001b[0m\u001b[1;33m(\u001b[0m\u001b[0my_true\u001b[0m\u001b[1;33m,\u001b[0m \u001b[0my_pred\u001b[0m\u001b[1;33m,\u001b[0m \u001b[0msample_weight\u001b[0m\u001b[1;33m)\u001b[0m\u001b[1;33m\u001b[0m\u001b[1;33m\u001b[0m\u001b[0m\n\u001b[0;32m   1033\u001b[0m     \u001b[0mpresent_labels\u001b[0m \u001b[1;33m=\u001b[0m \u001b[0munique_labels\u001b[0m\u001b[1;33m(\u001b[0m\u001b[0my_true\u001b[0m\u001b[1;33m,\u001b[0m \u001b[0my_pred\u001b[0m\u001b[1;33m)\u001b[0m\u001b[1;33m\u001b[0m\u001b[1;33m\u001b[0m\u001b[0m\n",
      "\u001b[1;32m~\\Anaconda3\\lib\\site-packages\\sklearn\\metrics\\classification.py\u001b[0m in \u001b[0;36m_check_targets\u001b[1;34m(y_true, y_pred)\u001b[0m\n\u001b[0;32m     79\u001b[0m     \u001b[1;32mif\u001b[0m \u001b[0mlen\u001b[0m\u001b[1;33m(\u001b[0m\u001b[0my_type\u001b[0m\u001b[1;33m)\u001b[0m \u001b[1;33m>\u001b[0m \u001b[1;36m1\u001b[0m\u001b[1;33m:\u001b[0m\u001b[1;33m\u001b[0m\u001b[1;33m\u001b[0m\u001b[0m\n\u001b[0;32m     80\u001b[0m         raise ValueError(\"Classification metrics can't handle a mix of {0} \"\n\u001b[1;32m---> 81\u001b[1;33m                          \"and {1} targets\".format(type_true, type_pred))\n\u001b[0m\u001b[0;32m     82\u001b[0m \u001b[1;33m\u001b[0m\u001b[0m\n\u001b[0;32m     83\u001b[0m     \u001b[1;31m# We can't have more than one value on y_type => The set is no more needed\u001b[0m\u001b[1;33m\u001b[0m\u001b[1;33m\u001b[0m\u001b[1;33m\u001b[0m\u001b[0m\n",
      "\u001b[1;31mValueError\u001b[0m: Classification metrics can't handle a mix of binary and continuous targets"
     ]
    }
   ],
   "source": [
    "t0 = time.time()\n",
    "IMDB_train['text_blob'] = text_blob_NB(IMDB_train['text'][0:10])\n",
    "t1 = time.time()\n",
    "\n",
    "total = t1-t0\n",
    "\n",
    "IMDB_train['pol_id'] = np.where(IMDB_train['pol']=='neg',-1,\n",
    "                        np.where(IMDB_train['pol']=='pos',1,0))\n",
    "precision_applied = sklearn.metrics.precision_score(IMDB_train['pol_id'],\n",
    "                                                            IMDB_train['text_blob'], average='weighted')\n",
    "recall_applied = sklearn.metrics.recall_score(IMDB_train['pol_id'],\n",
    "                                                            IMDB_train['text_blob'], average='weighted')\n",
    "\n",
    "F1_applied = 2 * (precision_applied * recall_applied) / (precision_applied + recall_applied)\n",
    "F1_applied"
   ]
  },
  {
   "cell_type": "code",
   "execution_count": 92,
   "metadata": {},
   "outputs": [
    {
     "data": {
      "text/plain": [
       "46.915640115737915"
      ]
     },
     "execution_count": 92,
     "metadata": {},
     "output_type": "execute_result"
    }
   ],
   "source": [
    "total"
   ]
  },
  {
   "cell_type": "markdown",
   "metadata": {},
   "source": [
    "### Apply to all datasets\n"
   ]
  },
  {
   "cell_type": "code",
   "execution_count": 169,
   "metadata": {},
   "outputs": [],
   "source": [
    "def text_blob_2(data_column):\n",
    "\n",
    "    output_labels = pd.DataFrame()\n",
    "    for n,phrases in enumerate(data_column):\n",
    "        blob = TextBlob(phrases)\n",
    "        polarity = blob.sentiment.polarity\n",
    "\n",
    "        if polarity > 0:\n",
    "            label = 1\n",
    "        elif polarity == 0:\n",
    "            label = 0\n",
    "        else:\n",
    "            label = -1\n",
    "\n",
    "        output_labels = output_labels.append(pd.DataFrame({'label':label},index=[n]))\n",
    "    return(output_labels['label'])\n",
    "\n",
    "\n"
   ]
  },
  {
   "cell_type": "code",
   "execution_count": null,
   "metadata": {},
   "outputs": [],
   "source": [
    "\"\"\"\n",
    "    output_labels_NB = pd.DataFrame()\n",
    "    for n,phrases in enumerate(data_column):\n",
    "        blob = TextBlob(phrases,analyzer=NaiveBayesAnalyzer())\n",
    "        polarity = blob.sentiment.classification\n",
    "\n",
    "        if polarity == 'pos':\n",
    "            label = 1\n",
    "        elif polarity == 'neg':\n",
    "            label = -1\n",
    "        else:\n",
    "            label = 0\n",
    "\n",
    "        output_labels_NB = output_labels_NB.append(pd.DataFrame({'label':label},index=[n]))\n",
    "\n",
    "    return(output_labels['label'],output_labels_NB['label'])\n",
    "\"\"\"\n",
    "\"\"\"\n",
    "\n",
    "\n",
    "    precision_applied_NB = sklearn.metrics.precision_score(IMDB_train['pol_id'],\n",
    "                                                                IMDB_train['text_blob_NB'], average='weighted')\n",
    "    recall_applied_NB = sklearn.metrics.recall_score(IMDB_train['pol_id'],\n",
    "                                                                IMDB_train['text_blob_NB'], average='weighted')\n",
    "\n",
    "    F1_applied_NB = 2 * (precision_applied_NB * recall_applied_NB) / (precision_applied_NB + recall_applied_NB)\n",
    "    \n",
    "    \n",
    "\"\"\""
   ]
  },
  {
   "cell_type": "code",
   "execution_count": 171,
   "metadata": {},
   "outputs": [
    {
     "name": "stdout",
     "output_type": "stream",
     "text": [
      "Current Dataset: IMDB_train\n"
     ]
    },
    {
     "name": "stderr",
     "output_type": "stream",
     "text": [
      "C:\\Users\\Phil\\Anaconda3\\lib\\site-packages\\sklearn\\metrics\\classification.py:1145: UndefinedMetricWarning: Recall is ill-defined and being set to 0.0 in labels with no true samples.\n",
      "  'recall', 'true', average, warn_for)\n"
     ]
    },
    {
     "name": "stdout",
     "output_type": "stream",
     "text": [
      "Current Dataset: IMDB_test\n"
     ]
    },
    {
     "name": "stderr",
     "output_type": "stream",
     "text": [
      "C:\\Users\\Phil\\Anaconda3\\lib\\site-packages\\sklearn\\metrics\\classification.py:1145: UndefinedMetricWarning: Recall is ill-defined and being set to 0.0 in labels with no true samples.\n",
      "  'recall', 'true', average, warn_for)\n"
     ]
    },
    {
     "name": "stdout",
     "output_type": "stream",
     "text": [
      "Current Dataset: rt_train_data_2\n"
     ]
    },
    {
     "name": "stderr",
     "output_type": "stream",
     "text": [
      "C:\\Users\\Phil\\Anaconda3\\lib\\site-packages\\sklearn\\metrics\\classification.py:1145: UndefinedMetricWarning: Recall is ill-defined and being set to 0.0 in labels with no true samples.\n",
      "  'recall', 'true', average, warn_for)\n"
     ]
    },
    {
     "name": "stdout",
     "output_type": "stream",
     "text": [
      "Current Dataset: twitter_products\n",
      "Current Dataset: financial_messages\n",
      "Current Dataset: financial_headlines\n"
     ]
    }
   ],
   "source": [
    "datasets = [IMDB_train,IMDB_test,rt_train_data_2,twitter_products,finance_messages,finance_headlines]\n",
    "dataset_names = ['IMDB_train','IMDB_test','rt_train_data_2','twitter_products','financial_messages','financial_headlines']\n",
    "dataset_text_col = ['text','text','text','text','text','text']\n",
    "\n",
    "output = pd.DataFrame()\n",
    "for n,dataset in enumerate(datasets):\n",
    "    print('Current Dataset:',dataset_names[n])\n",
    "    datasets[n]['text_blob_def'] = text_blob_2(datasets[n][str(dataset_text_col[n])].astype(str))\n",
    "    #dataset['text_blob_NB'] = text_blob_2(dataset[str(dataset_text_col[n])])[0]\n",
    "\n",
    "    precision_applied = sklearn.metrics.precision_score(datasets[n]['pol_id'],\n",
    "                                                                datasets[n]['text_blob_def'], average='weighted')\n",
    "    recall_applied = sklearn.metrics.recall_score(datasets[n]['pol_id'],\n",
    "                                                                datasets[n]['text_blob_def'], average='weighted')\n",
    "\n",
    "    F1_applied = 2 * (precision_applied * recall_applied) / (precision_applied + recall_applied)\n",
    "    \n",
    "    \n",
    "    \n",
    "    \n",
    "    output = output.append(pd.DataFrame({'dataset':dataset_names[n],\n",
    "                                         'text_blob_def_prec':precision_applied,\n",
    "                                         'text_blob_def_recall':recall_applied,\n",
    "                                         'text_blob_def_F1':F1_applied\n",
    "                                         }, index=[n]))"
   ]
  },
  {
   "cell_type": "code",
   "execution_count": 172,
   "metadata": {},
   "outputs": [
    {
     "data": {
      "text/html": [
       "<div>\n",
       "<style scoped>\n",
       "    .dataframe tbody tr th:only-of-type {\n",
       "        vertical-align: middle;\n",
       "    }\n",
       "\n",
       "    .dataframe tbody tr th {\n",
       "        vertical-align: top;\n",
       "    }\n",
       "\n",
       "    .dataframe thead th {\n",
       "        text-align: right;\n",
       "    }\n",
       "</style>\n",
       "<table border=\"1\" class=\"dataframe\">\n",
       "  <thead>\n",
       "    <tr style=\"text-align: right;\">\n",
       "      <th></th>\n",
       "      <th>dataset</th>\n",
       "      <th>text_blob_def_prec</th>\n",
       "      <th>text_blob_def_recall</th>\n",
       "      <th>text_blob_def_F1</th>\n",
       "    </tr>\n",
       "  </thead>\n",
       "  <tbody>\n",
       "    <tr>\n",
       "      <th>0</th>\n",
       "      <td>IMDB_train</td>\n",
       "      <td>0.754496</td>\n",
       "      <td>0.684880</td>\n",
       "      <td>0.718005</td>\n",
       "    </tr>\n",
       "    <tr>\n",
       "      <th>1</th>\n",
       "      <td>IMDB_test</td>\n",
       "      <td>0.760819</td>\n",
       "      <td>0.691320</td>\n",
       "      <td>0.724406</td>\n",
       "    </tr>\n",
       "    <tr>\n",
       "      <th>2</th>\n",
       "      <td>rt_train_data_2</td>\n",
       "      <td>0.787939</td>\n",
       "      <td>0.427141</td>\n",
       "      <td>0.553973</td>\n",
       "    </tr>\n",
       "    <tr>\n",
       "      <th>3</th>\n",
       "      <td>twitter_products</td>\n",
       "      <td>0.575329</td>\n",
       "      <td>0.486858</td>\n",
       "      <td>0.527409</td>\n",
       "    </tr>\n",
       "    <tr>\n",
       "      <th>4</th>\n",
       "      <td>financial_messages</td>\n",
       "      <td>0.646681</td>\n",
       "      <td>0.422336</td>\n",
       "      <td>0.510968</td>\n",
       "    </tr>\n",
       "    <tr>\n",
       "      <th>5</th>\n",
       "      <td>financial_headlines</td>\n",
       "      <td>0.689182</td>\n",
       "      <td>0.218557</td>\n",
       "      <td>0.331869</td>\n",
       "    </tr>\n",
       "  </tbody>\n",
       "</table>\n",
       "</div>"
      ],
      "text/plain": [
       "               dataset  text_blob_def_prec  text_blob_def_recall  \\\n",
       "0           IMDB_train            0.754496              0.684880   \n",
       "1            IMDB_test            0.760819              0.691320   \n",
       "2      rt_train_data_2            0.787939              0.427141   \n",
       "3     twitter_products            0.575329              0.486858   \n",
       "4   financial_messages            0.646681              0.422336   \n",
       "5  financial_headlines            0.689182              0.218557   \n",
       "\n",
       "   text_blob_def_F1  \n",
       "0          0.718005  \n",
       "1          0.724406  \n",
       "2          0.553973  \n",
       "3          0.527409  \n",
       "4          0.510968  \n",
       "5          0.331869  "
      ]
     },
     "execution_count": 172,
     "metadata": {},
     "output_type": "execute_result"
    }
   ],
   "source": [
    "output"
   ]
  },
  {
   "cell_type": "code",
   "execution_count": 177,
   "metadata": {},
   "outputs": [
    {
     "data": {
      "image/png": "[encoded data removed]",
      "text/plain": [
       "<Figure size 432x288 with 1 Axes>"
      ]
     },
     "metadata": {
      "needs_background": "light"
     },
     "output_type": "display_data"
    }
   ],
   "source": [
    "plt.bar(output['dataset'],output['text_blob_def_F1'])\n",
    "plt.title(\"TextBlob Sentiment Analysis Appied to Datasets (F1)\")\n",
    "plt.xticks(rotation='vertical')\n",
    "plt.ylim([0,1])\n",
    "plt.ylabel(\"F1 Score\")\n",
    "plt.show()"
   ]
  },
  {
   "cell_type": "code",
   "execution_count": 146,
   "metadata": {},
   "outputs": [],
   "source": [
    "def text_blob_2(data_column):\n",
    "\n",
    "    output_labels = pd.DataFrame()\n",
    "    for n,phrases in enumerate(data_column):\n",
    "        blob = TextBlob(phrases)\n",
    "        polarity = blob.sentiment.polarity\n",
    "\n",
    "        if polarity > 0:\n",
    "            label = 1\n",
    "        elif polarity < 0:\n",
    "            label = -1\n",
    "        else:\n",
    "            label = 0\n",
    "\n",
    "        output_labels = output_labels.append(pd.DataFrame({'label':label},index=[n]))\n",
    "        \n",
    "    output_labels_NB = pd.DataFrame()\n",
    "    for n,phrases in enumerate(data_column):\n",
    "        clear_output(wait=True)\n",
    "        print(\"Completed:\", np.round(n/len(data_column),4)*100,\"%\")\n",
    "        blob = TextBlob(phrases,analyzer=NaiveBayesAnalyzer())\n",
    "        polarity = blob.sentiment.classification\n",
    "\n",
    "        if polarity == 'pos':\n",
    "            label = 1\n",
    "        elif polarity == 'neg':\n",
    "            label = -1\n",
    "        else:\n",
    "            label = 0\n",
    "\n",
    "        output_labels_NB = output_labels_NB.append(pd.DataFrame({'label':label},index=[n]))\n",
    "\n",
    "    return(output_labels['label'],output_labels_NB['label'])\n"
   ]
  },
  {
   "cell_type": "code",
   "execution_count": 149,
   "metadata": {},
   "outputs": [
    {
     "name": "stdout",
     "output_type": "stream",
     "text": [
      "Completed: 100.0 %\n"
     ]
    },
    {
     "name": "stderr",
     "output_type": "stream",
     "text": [
      "C:\\Users\\Phil\\Anaconda3\\lib\\site-packages\\sklearn\\metrics\\classification.py:1145: UndefinedMetricWarning: Recall is ill-defined and being set to 0.0 in labels with no true samples.\n",
      "  'recall', 'true', average, warn_for)\n"
     ]
    }
   ],
   "source": [
    "datasets = [IMDB_train,IMDB_test,rt_train_data_2,twitter_train]\n",
    "dataset_names = ['IMDB_train','IMDB_test','rt_train_data_2','twitter_train']\n",
    "dataset_text_col = ['text','text','text','text']\n",
    "\n",
    "output = pd.DataFrame()\n",
    "for n,dataset in enumerate(datasets[1:2]):\n",
    "    print('Current Dataset:',dataset_names[n])\n",
    "    prediction = text_blob_2(datasets[n][str(dataset_text_col[n])])\n",
    "    datasets[n]['text_blob_def'] = prediction[0]\n",
    "    dataset['text_blob_NB'] = prediction[1]\n",
    "\n",
    "    precision_applied = sklearn.metrics.precision_score(datasets[n]['pol_id'],\n",
    "                                                                datasets[n]['text_blob_def'], average='weighted')\n",
    "    recall_applied = sklearn.metrics.recall_score(datasets[n]['pol_id'],\n",
    "                                                                datasets[n]['text_blob_def'], average='weighted')\n",
    "\n",
    "    F1_applied = 2 * (precision_applied * recall_applied) / (precision_applied + recall_applied)\n",
    "    \n",
    "    precision_applied_NB = sklearn.metrics.precision_score(datasets[n]['pol_id'],\n",
    "                                                                datasets[n]['text_blob_NB'], average='weighted')\n",
    "    recall_applied_NB = sklearn.metrics.recall_score(datasets[n]['pol_id'],\n",
    "                                                                datasets[n]['text_blob_NB'], average='weighted')\n",
    "\n",
    "    F1_applied_NB = 2 * (precision_applied_NB * recall_applied_NB) / (precision_applied_NB + recall_applied_NB)\n",
    "    \n",
    "    \n",
    "    \n",
    "    \n",
    "    output = output.append(pd.DataFrame({'dataset':dataset_names[n],\n",
    "                                         'text_blob_def_prec':precision_applied,\n",
    "                                         'text_blob_def_recall':recall_applied,\n",
    "                                         'text_blob_def_F1':F1_applied,\n",
    "                                         'text_blob_NB_prec':precision_applied_NB,\n",
    "                                         'text_blob_NB_recall':recall_applied_NB,\n",
    "                                         'text_blob_NB_F1':F1_applied_NB\n",
    "                                         }, index=[n]))"
   ]
  },
  {
   "cell_type": "code",
   "execution_count": 151,
   "metadata": {},
   "outputs": [
    {
     "data": {
      "text/html": [
       "<div>\n",
       "<style scoped>\n",
       "    .dataframe tbody tr th:only-of-type {\n",
       "        vertical-align: middle;\n",
       "    }\n",
       "\n",
       "    .dataframe tbody tr th {\n",
       "        vertical-align: top;\n",
       "    }\n",
       "\n",
       "    .dataframe thead th {\n",
       "        text-align: right;\n",
       "    }\n",
       "</style>\n",
       "<table border=\"1\" class=\"dataframe\">\n",
       "  <thead>\n",
       "    <tr style=\"text-align: right;\">\n",
       "      <th></th>\n",
       "      <th>dataset</th>\n",
       "      <th>text_blob_def_prec</th>\n",
       "      <th>text_blob_def_recall</th>\n",
       "      <th>text_blob_def_F1</th>\n",
       "      <th>text_blob_NB_prec</th>\n",
       "      <th>text_blob_NB_recall</th>\n",
       "      <th>text_blob_NB_F1</th>\n",
       "    </tr>\n",
       "  </thead>\n",
       "  <tbody>\n",
       "    <tr>\n",
       "      <th>0</th>\n",
       "      <td>IMDB_train</td>\n",
       "      <td>0.754496</td>\n",
       "      <td>0.68488</td>\n",
       "      <td>0.718005</td>\n",
       "      <td>0.783703</td>\n",
       "      <td>0.734</td>\n",
       "      <td>0.758037</td>\n",
       "    </tr>\n",
       "  </tbody>\n",
       "</table>\n",
       "</div>"
      ],
      "text/plain": [
       "      dataset  text_blob_def_prec  text_blob_def_recall  text_blob_def_F1  \\\n",
       "0  IMDB_train            0.754496               0.68488          0.718005   \n",
       "\n",
       "   text_blob_NB_prec  text_blob_NB_recall  text_blob_NB_F1  \n",
       "0           0.783703                0.734         0.758037  "
      ]
     },
     "execution_count": 151,
     "metadata": {},
     "output_type": "execute_result"
    }
   ],
   "source": [
    "output"
   ]
  },
  {
   "cell_type": "code",
   "execution_count": 157,
   "metadata": {},
   "outputs": [
    {
     "data": {
      "text/plain": [
       "0"
      ]
     },
     "execution_count": 157,
     "metadata": {},
     "output_type": "execute_result"
    }
   ],
   "source": [
    "n\n"
   ]
  },
  {
   "cell_type": "code",
   "execution_count": 156,
   "metadata": {},
   "outputs": [
    {
     "data": {
      "text/html": [
       "<div>\n",
       "<style scoped>\n",
       "    .dataframe tbody tr th:only-of-type {\n",
       "        vertical-align: middle;\n",
       "    }\n",
       "\n",
       "    .dataframe tbody tr th {\n",
       "        vertical-align: top;\n",
       "    }\n",
       "\n",
       "    .dataframe thead th {\n",
       "        text-align: right;\n",
       "    }\n",
       "</style>\n",
       "<table border=\"1\" class=\"dataframe\">\n",
       "  <thead>\n",
       "    <tr style=\"text-align: right;\">\n",
       "      <th></th>\n",
       "      <th>id</th>\n",
       "      <th>rating</th>\n",
       "      <th>pol</th>\n",
       "      <th>text</th>\n",
       "      <th>pol_id</th>\n",
       "      <th>text_blob_def</th>\n",
       "      <th>text_blob_NB</th>\n",
       "    </tr>\n",
       "  </thead>\n",
       "  <tbody>\n",
       "    <tr>\n",
       "      <th>0</th>\n",
       "      <td>0</td>\n",
       "      <td>2</td>\n",
       "      <td>neg</td>\n",
       "      <td>Once again Mr. Costner has dragged out a movie...</td>\n",
       "      <td>-1</td>\n",
       "      <td>1</td>\n",
       "      <td>1</td>\n",
       "    </tr>\n",
       "    <tr>\n",
       "      <th>1</th>\n",
       "      <td>1</td>\n",
       "      <td>3</td>\n",
       "      <td>neg</td>\n",
       "      <td>This is a pale imitation of 'Officer and a Gen...</td>\n",
       "      <td>-1</td>\n",
       "      <td>1</td>\n",
       "      <td>-1</td>\n",
       "    </tr>\n",
       "    <tr>\n",
       "      <th>2</th>\n",
       "      <td>10</td>\n",
       "      <td>3</td>\n",
       "      <td>neg</td>\n",
       "      <td>Years ago, when DARLING LILI played on TV, it ...</td>\n",
       "      <td>-1</td>\n",
       "      <td>1</td>\n",
       "      <td>-1</td>\n",
       "    </tr>\n",
       "    <tr>\n",
       "      <th>3</th>\n",
       "      <td>100</td>\n",
       "      <td>4</td>\n",
       "      <td>neg</td>\n",
       "      <td>I was looking forward to this movie. Trustwort...</td>\n",
       "      <td>-1</td>\n",
       "      <td>1</td>\n",
       "      <td>-1</td>\n",
       "    </tr>\n",
       "    <tr>\n",
       "      <th>4</th>\n",
       "      <td>1000</td>\n",
       "      <td>3</td>\n",
       "      <td>neg</td>\n",
       "      <td>First of all, I would like to say that I am a ...</td>\n",
       "      <td>-1</td>\n",
       "      <td>1</td>\n",
       "      <td>-1</td>\n",
       "    </tr>\n",
       "  </tbody>\n",
       "</table>\n",
       "</div>"
      ],
      "text/plain": [
       "     id rating  pol                                               text  \\\n",
       "0     0      2  neg  Once again Mr. Costner has dragged out a movie...   \n",
       "1     1      3  neg  This is a pale imitation of 'Officer and a Gen...   \n",
       "2    10      3  neg  Years ago, when DARLING LILI played on TV, it ...   \n",
       "3   100      4  neg  I was looking forward to this movie. Trustwort...   \n",
       "4  1000      3  neg  First of all, I would like to say that I am a ...   \n",
       "\n",
       "   pol_id  text_blob_def  text_blob_NB  \n",
       "0      -1              1             1  \n",
       "1      -1              1            -1  \n",
       "2      -1              1            -1  \n",
       "3      -1              1            -1  \n",
       "4      -1              1            -1  "
      ]
     },
     "execution_count": 156,
     "metadata": {},
     "output_type": "execute_result"
    }
   ],
   "source": [
    "dataset.head()"
   ]
  },
  {
   "cell_type": "code",
   "execution_count": null,
   "metadata": {},
   "outputs": [],
   "source": []
  }
 ],
 "metadata": {
  "kernelspec": {
   "display_name": "Python 3",
   "language": "python",
   "name": "python3"
  },
  "language_info": {
   "codemirror_mode": {
    "name": "ipython",
    "version": 3
   },
   "file_extension": ".py",
   "mimetype": "text/x-python",
   "name": "python",
   "nbconvert_exporter": "python",
   "pygments_lexer": "ipython3",
   "version": "3.6.8"
  }
 },
 "nbformat": 4,
 "nbformat_minor": 2
}
