{
 "cells": [
  {
   "cell_type": "code",
   "execution_count": 6,
   "metadata": {
    "collapsed": true,
    "pycharm": {
     "is_executing": false
    }
   },
   "outputs": [],
   "source": [
    "import pandas as pd\n",
    "\n",
    "dataPath1 = \"/home/peter/dev/Work/Transportation/Output/performaceMeasures_sentimentTagging_2019-12-16__21-33-41_DL_PS.csv\"\n",
    "dataPath2 = \"/home/peter/dev/Work/Transportation/Output/performaceMeasures_sentimentTagging_2019-12-16__21-36-00_virtual_azure.csv\"\n",
    "\n",
    "\n",
    "\n",
    "d1 = pd.read_csv(dataPath1, encoding=\"ISO-8859-1\")\n",
    "d2 = pd.read_csv(dataPath2, encoding=\"ISO-8859-1\")\n",
    "\n",
    "# %%\n",
    "def list_diff(list1, list2): \n",
    "\treturn (list(set(list1) - set(list2)))\n",
    "# %%\n",
    "other_cols=['_test', '_train']\n",
    "all_cols = d1.columns.to_list()\n",
    "meassureCols = list_diff(all_cols,other_cols)\n",
    "for meassureColName in meassureCols:\n",
    "    pass\n",
    "    "
   ]
  }
 ],
 "metadata": {
  "kernelspec": {
   "display_name": "Python 3",
   "language": "python",
   "name": "python3"
  },
  "language_info": {
   "codemirror_mode": {
    "name": "ipython",
    "version": 2
   },
   "file_extension": ".py",
   "mimetype": "text/x-python",
   "name": "python",
   "nbconvert_exporter": "python",
   "pygments_lexer": "ipython2",
   "version": "2.7.6"
  },
  "pycharm": {
   "stem_cell": {
    "cell_type": "raw",
    "source": [],
    "metadata": {
     "collapsed": false
    }
   }
  }
 },
 "nbformat": 4,
 "nbformat_minor": 0
}